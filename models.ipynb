{
 "cells": [
  {
   "cell_type": "code",
   "execution_count": 804,
   "id": "99444bb7-1b5e-49e8-ba80-f8934ec9a820",
   "metadata": {
    "tags": []
   },
   "outputs": [],
   "source": [
    "import pandas as pd\n",
    "import numpy as np\n",
    "\n",
    "# machine learning\n",
    "from sklearn.linear_model import LogisticRegression\n",
    "from sklearn.svm import SVC, LinearSVC\n",
    "from sklearn.ensemble import RandomForestClassifier\n",
    "from sklearn.neighbors import KNeighborsClassifier\n",
    "from sklearn.naive_bayes import GaussianNB\n",
    "from sklearn.linear_model import Perceptron\n",
    "from sklearn.linear_model import SGDClassifier\n",
    "import xgboost as xgb\n",
    "\n",
    "#import lgbm classifier\n",
    "import lightgbm as lgb\n",
    "import catboost as cb\n",
    "from sklearn.model_selection import cross_val_score\n",
    "\n",
    "import seaborn as sns\n",
    "import matplotlib.pyplot as plt"
   ]
  },
  {
   "cell_type": "code",
   "execution_count": 805,
   "id": "efbf01da-b2ea-4b67-a7f1-6e2e199d250d",
   "metadata": {},
   "outputs": [],
   "source": [
    "train_df = pd.read_csv('train.csv')\n",
    "test_df = pd.read_csv('test.csv')"
   ]
  },
  {
   "cell_type": "code",
   "execution_count": 806,
   "id": "5895dbd7",
   "metadata": {},
   "outputs": [],
   "source": [
    "# combine train and test data into one dataframe\n",
    "df = pd.concat([train_df, test_df], sort=False)"
   ]
  },
  {
   "cell_type": "code",
   "execution_count": 807,
   "id": "f0625cb4",
   "metadata": {},
   "outputs": [],
   "source": [
    "# seperate the cabin info\n",
    "df['Deck'] = df['Cabin'].str.split('/').str[0]\n",
    "df['CabinNumber'] = df['Cabin'].str.split('/').str[1].fillna('-1').astype('int')\n",
    "df['Side'] = df['Cabin'].str.split('/').str[2]"
   ]
  },
  {
   "cell_type": "code",
   "execution_count": 808,
   "id": "736fb1e0",
   "metadata": {},
   "outputs": [],
   "source": [
    "exp_cols = ['RoomService', 'FoodCourt', 'ShoppingMall', 'Spa', 'VRDeck']"
   ]
  },
  {
   "cell_type": "code",
   "execution_count": 809,
   "id": "0a9d913f",
   "metadata": {},
   "outputs": [],
   "source": [
    "# column for total money spent on ammenities\n",
    "df['TotalMoneySpent'] = df['RoomService'] + df['FoodCourt'] + df['ShoppingMall']+ df['Spa']+ df['VRDeck']"
   ]
  },
  {
   "cell_type": "code",
   "execution_count": 810,
   "id": "29a1b9cc-1f9d-4f38-b8f6-e07245bdc3cb",
   "metadata": {},
   "outputs": [],
   "source": [
    "df = df.drop(['Cabin'], axis=1)"
   ]
  },
  {
   "cell_type": "code",
   "execution_count": 811,
   "id": "844d7bc0",
   "metadata": {},
   "outputs": [],
   "source": [
    "# seperate passenger id into group number\n",
    "df['Group'] = df['PassengerId'].str.split('_').str[0].astype(int)"
   ]
  },
  {
   "cell_type": "code",
   "execution_count": 812,
   "id": "04138ab7",
   "metadata": {},
   "outputs": [],
   "source": [
    "# find group size and add to dataframe\n",
    "group_size = df.groupby('Group').size().reset_index(name='GroupSize')\n",
    "df = df.merge(group_size, on='Group', how='left')"
   ]
  },
  {
   "cell_type": "code",
   "execution_count": 813,
   "id": "73936e1c",
   "metadata": {},
   "outputs": [],
   "source": [
    "df['NoSpending'] = (df['TotalMoneySpent'] == 0).astype(int)"
   ]
  },
  {
   "cell_type": "code",
   "execution_count": 814,
   "id": "8d6d7e0c",
   "metadata": {},
   "outputs": [],
   "source": [
    "df['TravellingAlone'] = (df['GroupSize'] == 1).astype(int)"
   ]
  },
  {
   "cell_type": "code",
   "execution_count": 815,
   "id": "1ee8cfe3",
   "metadata": {},
   "outputs": [],
   "source": [
    "# fill with na where cabin number is -1\n",
    "df['CabinNumber'] = df['CabinNumber'].replace(-1, np.nan)"
   ]
  },
  {
   "cell_type": "code",
   "execution_count": 816,
   "id": "94ad18c9",
   "metadata": {},
   "outputs": [],
   "source": [
    "home_planet_groups = df.groupby(['Group','HomePlanet'])['HomePlanet'].size().unstack().fillna(0)"
   ]
  },
  {
   "cell_type": "code",
   "execution_count": 817,
   "id": "8c2e7d44",
   "metadata": {},
   "outputs": [],
   "source": [
    "idx=df[df['HomePlanet'].isna()][(df[df['HomePlanet'].isna()]['Group']).isin(home_planet_groups.index)].index\n",
    "\n",
    "# Fill corresponding missing values\n",
    "df.loc[idx,'HomePlanet']=df.iloc[idx,:]['Group'].map(lambda x: home_planet_groups.idxmax(axis=1)[x])"
   ]
  },
  {
   "cell_type": "code",
   "execution_count": 818,
   "id": "6797f613",
   "metadata": {},
   "outputs": [
    {
     "data": {
      "text/plain": [
       "157"
      ]
     },
     "execution_count": 818,
     "metadata": {},
     "output_type": "execute_result"
    }
   ],
   "source": [
    "df['HomePlanet'].isna().sum()"
   ]
  },
  {
   "cell_type": "code",
   "execution_count": 819,
   "id": "91b4e70e",
   "metadata": {},
   "outputs": [
    {
     "data": {
      "text/plain": [
       "<AxesSubplot:xlabel='Deck', ylabel='count'>"
      ]
     },
     "execution_count": 819,
     "metadata": {},
     "output_type": "execute_result"
    },
    {
     "data": {
      "image/png": "[encoded data removed]",
      "text/plain": [
       "<Figure size 640x480 with 1 Axes>"
      ]
     },
     "metadata": {},
     "output_type": "display_data"
    }
   ],
   "source": [
    "# plot deck and home planet\n",
    "\n",
    "sns.set(style=\"darkgrid\")\n",
    "sns.countplot(x=\"Deck\", hue=\"HomePlanet\", data=df)"
   ]
  },
  {
   "cell_type": "code",
   "execution_count": 820,
   "id": "63aed05f",
   "metadata": {},
   "outputs": [],
   "source": [
    "df.loc[(df['HomePlanet'].isna()) & (df['Deck'].isin(['A', 'B', 'C', 'T'])), 'HomePlanet']='Europa'\n",
    "\n",
    "df.loc[(df['HomePlanet'].isna()) & (df['Deck']=='G'), 'HomePlanet']='Earth'"
   ]
  },
  {
   "cell_type": "code",
   "execution_count": 821,
   "id": "daa37ee4",
   "metadata": {},
   "outputs": [],
   "source": [
    "df['Surname']=df['Name'].str.split().str[-1]"
   ]
  },
  {
   "cell_type": "code",
   "execution_count": 822,
   "id": "c5c7bf3b",
   "metadata": {},
   "outputs": [
    {
     "data": {
      "text/plain": [
       "294"
      ]
     },
     "execution_count": 822,
     "metadata": {},
     "output_type": "execute_result"
    }
   ],
   "source": [
    "df['Surname'].isna().sum()"
   ]
  },
  {
   "cell_type": "code",
   "execution_count": 823,
   "id": "a0630004",
   "metadata": {},
   "outputs": [],
   "source": [
    "groups = df.groupby(['Surname','HomePlanet'])['HomePlanet'].size().unstack().fillna(0)\n",
    "idx=df[df['HomePlanet'].isna()][(df[df['HomePlanet'].isna()]['Surname']).isin(groups.index)].index\n",
    "\n",
    "# Fill corresponding missing values\n",
    "df.loc[idx,'HomePlanet']=df.iloc[idx,:]['Surname'].map(lambda x: groups.idxmax(axis=1)[x])"
   ]
  },
  {
   "cell_type": "code",
   "execution_count": 824,
   "id": "5bb8a43f",
   "metadata": {},
   "outputs": [],
   "source": [
    "df.loc[(df['HomePlanet'].isna()) & ~(df['Deck']=='D'), 'HomePlanet']='Earth'\n",
    "df.loc[(df['HomePlanet'].isna()) & (df['Deck']=='D'), 'HomePlanet']='Mars'"
   ]
  },
  {
   "cell_type": "code",
   "execution_count": 825,
   "id": "b40d2ff4",
   "metadata": {},
   "outputs": [
    {
     "data": {
      "text/plain": [
       "274"
      ]
     },
     "execution_count": 825,
     "metadata": {},
     "output_type": "execute_result"
    }
   ],
   "source": [
    "df['Destination'].isna().sum()"
   ]
  },
  {
   "cell_type": "code",
   "execution_count": 826,
   "id": "033ae666",
   "metadata": {},
   "outputs": [],
   "source": [
    "groups = df.groupby(['Surname','Destination'])['Destination'].size().unstack().fillna(0)\n",
    "idx=df[df['Destination'].isna()][(df[df['Destination'].isna()]['Surname']).isin(groups.index)].index\n",
    "\n",
    "# Fill corresponding missing values\n",
    "df.loc[idx,'Destination']=df.iloc[idx,:]['Surname'].map(lambda x: groups.idxmax(axis=1)[x])"
   ]
  },
  {
   "cell_type": "code",
   "execution_count": 827,
   "id": "a4027f04",
   "metadata": {},
   "outputs": [
    {
     "data": {
      "text/plain": [
       "8"
      ]
     },
     "execution_count": 827,
     "metadata": {},
     "output_type": "execute_result"
    }
   ],
   "source": [
    "df['Destination'].isna().sum()"
   ]
  },
  {
   "cell_type": "code",
   "execution_count": 828,
   "id": "a7783451",
   "metadata": {},
   "outputs": [],
   "source": [
    "groups = df.groupby(['Group','Destination'])['Destination'].size().unstack().fillna(0)\n",
    "idx=df[df['Destination'].isna()][(df[df['Destination'].isna()]['Group']).isin(groups.index)].index\n",
    "\n",
    "# Fill corresponding missing values\n",
    "df.loc[idx,'Destination']=df.iloc[idx,:]['Group'].map(lambda x: groups.idxmax(axis=1)[x])"
   ]
  },
  {
   "cell_type": "code",
   "execution_count": 829,
   "id": "84257781",
   "metadata": {},
   "outputs": [
    {
     "data": {
      "text/plain": [
       "6"
      ]
     },
     "execution_count": 829,
     "metadata": {},
     "output_type": "execute_result"
    }
   ],
   "source": [
    "df['Destination'].isna().sum()"
   ]
  },
  {
   "cell_type": "code",
   "execution_count": 830,
   "id": "edfd78df",
   "metadata": {},
   "outputs": [],
   "source": [
    "# fill missing values with most common value for destination\n",
    "df['Destination'].fillna(df['Destination'].mode()[0], inplace=True)"
   ]
  },
  {
   "cell_type": "code",
   "execution_count": 831,
   "id": "fbf6f6e7",
   "metadata": {},
   "outputs": [],
   "source": [
    "groups = df[df['GroupSize']>1].groupby(['Group','Surname'])['Surname'].size().unstack().fillna(0)\n",
    "idx=df[df['Surname'].isna()][(df[df['Surname'].isna()]['Group']).isin(groups.index)].index\n",
    "\n",
    "# Fill corresponding missing values\n",
    "df.loc[idx,'Surname']=df.iloc[idx,:]['Group'].map(lambda x: groups.idxmax(axis=1)[x])"
   ]
  },
  {
   "cell_type": "code",
   "execution_count": 832,
   "id": "9bb992aa",
   "metadata": {},
   "outputs": [],
   "source": [
    "df['Surname'].fillna('Unknown', inplace=True)"
   ]
  },
  {
   "cell_type": "code",
   "execution_count": 833,
   "id": "8a2e90e7",
   "metadata": {},
   "outputs": [],
   "source": [
    "df['FamilySize']=df['Surname'].map(lambda x: df['Surname'].value_counts()[x])"
   ]
  },
  {
   "cell_type": "code",
   "execution_count": 834,
   "id": "772ac920",
   "metadata": {},
   "outputs": [],
   "source": [
    "df.loc[df['Surname']=='Unknown','Surname']=np.nan\n",
    "\n",
    "df.loc[df['FamilySize']>100,'FamilySize']=0"
   ]
  },
  {
   "cell_type": "code",
   "execution_count": 835,
   "id": "ddd1238d",
   "metadata": {},
   "outputs": [
    {
     "data": {
      "text/plain": [
       "299"
      ]
     },
     "execution_count": 835,
     "metadata": {},
     "output_type": "execute_result"
    }
   ],
   "source": [
    "len(df[df['Deck'].isna()])"
   ]
  },
  {
   "cell_type": "code",
   "execution_count": 836,
   "id": "c551e13a",
   "metadata": {},
   "outputs": [],
   "source": [
    "groups = df[df['GroupSize']>1].groupby(['Group','Deck'])['Deck'].size().unstack().fillna(0)\n",
    "idx=df[df['Deck'].isna()][(df[df['Deck'].isna()]['Group']).isin(groups.index)].index\n",
    "\n",
    "# Fill corresponding missing values\n",
    "df.loc[idx,'Deck']=df.iloc[idx,:]['Group'].map(lambda x: groups.idxmax(axis=1)[x])"
   ]
  },
  {
   "cell_type": "code",
   "execution_count": 837,
   "id": "a402b3f5",
   "metadata": {},
   "outputs": [
    {
     "data": {
      "text/plain": [
       "162"
      ]
     },
     "execution_count": 837,
     "metadata": {},
     "output_type": "execute_result"
    }
   ],
   "source": [
    "len(df[df['Deck'].isna()])"
   ]
  },
  {
   "cell_type": "code",
   "execution_count": 838,
   "id": "5dcfd27f",
   "metadata": {},
   "outputs": [],
   "source": [
    "groups = df[df['GroupSize']>1].groupby(['Surname','Deck'])['Deck'].size().unstack().fillna(0)\n",
    "idx=df[df['Deck'].isna()][(df[df['Deck'].isna()]['Surname']).isin(groups.index)].index\n",
    "\n",
    "# Fill corresponding missing values\n",
    "df.loc[idx,'Deck']=df.iloc[idx,:]['Surname'].map(lambda x: groups.idxmax(axis=1)[x])"
   ]
  },
  {
   "cell_type": "code",
   "execution_count": 839,
   "id": "32b1669a",
   "metadata": {},
   "outputs": [
    {
     "data": {
      "text/plain": [
       "66"
      ]
     },
     "execution_count": 839,
     "metadata": {},
     "output_type": "execute_result"
    }
   ],
   "source": [
    "len(df[df['Deck'].isna()])"
   ]
  },
  {
   "cell_type": "code",
   "execution_count": 840,
   "id": "3086d654",
   "metadata": {},
   "outputs": [],
   "source": [
    "deck_na_rows=df.loc[df['Deck'].isna(),'Deck'].index\n",
    "df.loc[df['Deck'].isna(),'Deck']=df.groupby(['HomePlanet','Destination','TravellingAlone'])['Deck'].transform(lambda x: x.fillna(pd.Series.mode(x)[0]))[deck_na_rows]"
   ]
  },
  {
   "cell_type": "code",
   "execution_count": 841,
   "id": "eb2ecd13",
   "metadata": {},
   "outputs": [
    {
     "data": {
      "text/plain": [
       "0"
      ]
     },
     "execution_count": 841,
     "metadata": {},
     "output_type": "execute_result"
    }
   ],
   "source": [
    "len(df[df['Deck'].isna()])"
   ]
  },
  {
   "cell_type": "code",
   "execution_count": 842,
   "id": "a45aa203",
   "metadata": {},
   "outputs": [
    {
     "data": {
      "text/plain": [
       "299"
      ]
     },
     "execution_count": 842,
     "metadata": {},
     "output_type": "execute_result"
    }
   ],
   "source": [
    "len(df[df['Side'].isna()])"
   ]
  },
  {
   "cell_type": "code",
   "execution_count": 843,
   "id": "e565d463",
   "metadata": {},
   "outputs": [],
   "source": [
    "groups = df[df['GroupSize']>1].groupby(['Group','Side'])['Side'].size().unstack().fillna(0)\n",
    "idx=df[df['Side'].isna()][(df[df['Side'].isna()]['Group']).isin(groups.index)].index\n",
    "\n",
    "# Fill corresponding missing values\n",
    "df.loc[idx,'Side']=df.iloc[idx,:]['Group'].map(lambda x: groups.idxmax(axis=1)[x])"
   ]
  },
  {
   "cell_type": "code",
   "execution_count": 844,
   "id": "5cd92cbe",
   "metadata": {},
   "outputs": [
    {
     "data": {
      "text/plain": [
       "162"
      ]
     },
     "execution_count": 844,
     "metadata": {},
     "output_type": "execute_result"
    }
   ],
   "source": [
    "len(df[df['Side'].isna()])"
   ]
  },
  {
   "cell_type": "code",
   "execution_count": 845,
   "id": "a99783f7",
   "metadata": {},
   "outputs": [],
   "source": [
    "groups = df[df['GroupSize']>1].groupby(['Surname','Side'])['Side'].size().unstack().fillna(0)\n",
    "idx=df[df['Side'].isna()][(df[df['Side'].isna()]['Surname']).isin(groups.index)].index\n",
    "\n",
    "# Fill corresponding missing values\n",
    "df.loc[idx,'Side']=df.iloc[idx,:]['Surname'].map(lambda x: groups.idxmax(axis=1)[x])"
   ]
  },
  {
   "cell_type": "code",
   "execution_count": 846,
   "id": "5f3d12e1",
   "metadata": {},
   "outputs": [
    {
     "data": {
      "text/plain": [
       "66"
      ]
     },
     "execution_count": 846,
     "metadata": {},
     "output_type": "execute_result"
    }
   ],
   "source": [
    "len(df[df['Side'].isna()])"
   ]
  },
  {
   "cell_type": "code",
   "execution_count": 847,
   "id": "6e88ace7",
   "metadata": {},
   "outputs": [
    {
     "data": {
      "text/plain": [
       "299"
      ]
     },
     "execution_count": 847,
     "metadata": {},
     "output_type": "execute_result"
    }
   ],
   "source": [
    "len(df[df['CabinNumber'].isna()])"
   ]
  },
  {
   "cell_type": "code",
   "execution_count": 848,
   "id": "ebbf15b5",
   "metadata": {},
   "outputs": [],
   "source": [
    "# fill missing cabin numbers through linear regression\n",
    "for deck in ['A', 'B', 'C', 'D', 'E', 'F', 'G']:\n",
    "    # Features and labels\n",
    "    X_CN=df.loc[~(df['CabinNumber'].isna()) & (df['Deck']==deck),'Group']\n",
    "    y_CN=df.loc[~(df['CabinNumber'].isna()) & (df['Deck']==deck),'CabinNumber']\n",
    "    X_test_CN=df.loc[(df['CabinNumber'].isna()) & (df['Deck']==deck),'Group']\n",
    "\n",
    "    # Linear regression\n",
    "    model_CN = LinearRegression()\n",
    "    model_CN.fit(X_CN.values.reshape(-1, 1), y_CN)\n",
    "    preds_CN=model_CN.predict(X_test_CN.values.reshape(-1, 1))\n",
    "    \n",
    "    # Fill missing values with predictions\n",
    "    df.loc[(df['CabinNumber'].isna()) & (df['Deck']==deck),'CabinNumber']=preds_CN.astype(int)"
   ]
  },
  {
   "cell_type": "code",
   "execution_count": 849,
   "id": "17454a62",
   "metadata": {},
   "outputs": [
    {
     "data": {
      "text/plain": [
       "0"
      ]
     },
     "execution_count": 849,
     "metadata": {},
     "output_type": "execute_result"
    }
   ],
   "source": [
    "len(df[df['CabinNumber'].isna()])"
   ]
  },
  {
   "cell_type": "code",
   "execution_count": 850,
   "id": "51b08aee",
   "metadata": {},
   "outputs": [],
   "source": [
    "df.loc[(df['CabinNumber']<300),'CabinNumberGroup']=0\n",
    "df.loc[((df['CabinNumber']>=300) & (df['CabinNumber']<600)),'CabinNumberGroup']=1\n",
    "df.loc[((df['CabinNumber']>=600) & (df['CabinNumber']<1200)),'CabinNumberGroup']=2\n",
    "df.loc[(df['CabinNumber']>=1200),'CabinNumberGroup']=3"
   ]
  },
  {
   "cell_type": "code",
   "execution_count": 851,
   "id": "48128de7",
   "metadata": {},
   "outputs": [
    {
     "data": {
      "text/plain": [
       "S    6504\n",
       "P    6400\n",
       "Name: Side, dtype: int64"
      ]
     },
     "execution_count": 851,
     "metadata": {},
     "output_type": "execute_result"
    }
   ],
   "source": [
    "df['Side'].value_counts()"
   ]
  },
  {
   "cell_type": "code",
   "execution_count": 852,
   "id": "4e77accd",
   "metadata": {},
   "outputs": [],
   "source": [
    "# Fill missing values using the less common side\n",
    "df.loc[df['Side'].isna(),'Side']='P'"
   ]
  },
  {
   "cell_type": "code",
   "execution_count": 853,
   "id": "4d9c4c01",
   "metadata": {},
   "outputs": [
    {
     "data": {
      "text/plain": [
       "0"
      ]
     },
     "execution_count": 853,
     "metadata": {},
     "output_type": "execute_result"
    }
   ],
   "source": [
    "len(df[df['Side'].isna()])"
   ]
  },
  {
   "cell_type": "code",
   "execution_count": 854,
   "id": "a65624ef",
   "metadata": {},
   "outputs": [
    {
     "data": {
      "text/plain": [
       "296"
      ]
     },
     "execution_count": 854,
     "metadata": {},
     "output_type": "execute_result"
    }
   ],
   "source": [
    "len(df[df['VIP'].isna()])"
   ]
  },
  {
   "cell_type": "code",
   "execution_count": 855,
   "id": "303977ed",
   "metadata": {},
   "outputs": [],
   "source": [
    "groups = df[df['GroupSize']>1].groupby(['Surname','VIP'])['VIP'].size().unstack().fillna(0)\n",
    "idx=df[df['VIP'].isna()][(df[df['VIP'].isna()]['Surname']).isin(groups.index)].index\n",
    "\n",
    "# Fill corresponding missing values\n",
    "df.loc[idx,'VIP']=df.iloc[idx,:]['Surname'].map(lambda x: groups.idxmax(axis=1)[x])"
   ]
  },
  {
   "cell_type": "code",
   "execution_count": 856,
   "id": "a076acd9",
   "metadata": {},
   "outputs": [
    {
     "data": {
      "text/plain": [
       "63"
      ]
     },
     "execution_count": 856,
     "metadata": {},
     "output_type": "execute_result"
    }
   ],
   "source": [
    "len(df[df['VIP'].isna()])"
   ]
  },
  {
   "cell_type": "code",
   "execution_count": 857,
   "id": "cc65f376",
   "metadata": {},
   "outputs": [],
   "source": [
    "groups = df.groupby(['CabinNumber','VIP'])['VIP'].size().unstack().fillna(0)\n",
    "idx=df[df['VIP'].isna()][(df[df['VIP'].isna()]['CabinNumber']).isin(groups.index)].index\n",
    "\n",
    "# Fill corresponding missing values\n",
    "df.loc[idx,'VIP']=df.iloc[idx,:]['CabinNumber'].map(lambda x: groups.idxmax(axis=1)[x])"
   ]
  },
  {
   "cell_type": "code",
   "execution_count": 858,
   "id": "73c5879e",
   "metadata": {},
   "outputs": [
    {
     "data": {
      "text/plain": [
       "1"
      ]
     },
     "execution_count": 858,
     "metadata": {},
     "output_type": "execute_result"
    }
   ],
   "source": [
    "len(df[df['VIP'].isna()])"
   ]
  },
  {
   "cell_type": "code",
   "execution_count": 859,
   "id": "0190b4ca",
   "metadata": {},
   "outputs": [],
   "source": [
    "df.loc[df['VIP'].isna(),'VIP']=False"
   ]
  },
  {
   "cell_type": "code",
   "execution_count": 860,
   "id": "60b3e1b4",
   "metadata": {},
   "outputs": [
    {
     "data": {
      "text/plain": [
       "270"
      ]
     },
     "execution_count": 860,
     "metadata": {},
     "output_type": "execute_result"
    }
   ],
   "source": [
    "len(df[df['Age'].isna()])"
   ]
  },
  {
   "cell_type": "code",
   "execution_count": 861,
   "id": "eff56c51",
   "metadata": {},
   "outputs": [],
   "source": [
    "# Fill missing values using the median\n",
    "age_na_rows=df.loc[df['Age'].isna(),'Age'].index\n",
    "df.loc[df['Age'].isna(),'Age']=df.groupby(['HomePlanet','NoSpending','TravellingAlone','Deck'])['Age'].transform(lambda x: x.fillna(x.median()))[age_na_rows]"
   ]
  },
  {
   "cell_type": "code",
   "execution_count": 862,
   "id": "d95a8fb7",
   "metadata": {},
   "outputs": [
    {
     "data": {
      "text/plain": [
       "0"
      ]
     },
     "execution_count": 862,
     "metadata": {},
     "output_type": "execute_result"
    }
   ],
   "source": [
    "len(df[df['Age'].isna()])"
   ]
  },
  {
   "cell_type": "code",
   "execution_count": 863,
   "id": "cb8e0ce3",
   "metadata": {},
   "outputs": [],
   "source": [
    "df.loc[df['Age']<=12,'AgeGroup']=0\n",
    "df.loc[(df['Age']>12) & (df['Age']<18),'AgeGroup']=1\n",
    "df.loc[(df['Age']>=18) & (df['Age']<=25),'AgeGroup']=2\n",
    "df.loc[(df['Age']>25) & (df['Age']<=30),'AgeGroup']=3\n",
    "df.loc[(df['Age']>30) & (df['Age']<=50),'AgeGroup']=4\n",
    "df.loc[df['Age']>50,'AgeGroup']=5"
   ]
  },
  {
   "cell_type": "code",
   "execution_count": 864,
   "id": "8bc8142f",
   "metadata": {},
   "outputs": [
    {
     "data": {
      "text/plain": [
       "310"
      ]
     },
     "execution_count": 864,
     "metadata": {},
     "output_type": "execute_result"
    }
   ],
   "source": [
    "len(df[df['CryoSleep'].isna()])"
   ]
  },
  {
   "cell_type": "code",
   "execution_count": 865,
   "id": "5451b094",
   "metadata": {},
   "outputs": [],
   "source": [
    "na_rows=df.loc[df['CryoSleep'].isna(),'CryoSleep'].index\n",
    "df.loc[df['CryoSleep'].isna(),'CryoSleep']=df.groupby(['NoSpending'])['CryoSleep'].transform(lambda x: x.fillna(pd.Series.mode(x)[0]))[na_rows]"
   ]
  },
  {
   "cell_type": "code",
   "execution_count": 866,
   "id": "cf5cd111",
   "metadata": {},
   "outputs": [
    {
     "data": {
      "text/plain": [
       "0"
      ]
     },
     "execution_count": 866,
     "metadata": {},
     "output_type": "execute_result"
    }
   ],
   "source": [
    "len(df[df['CryoSleep'].isna()])"
   ]
  },
  {
   "cell_type": "code",
   "execution_count": 867,
   "id": "680fab62",
   "metadata": {},
   "outputs": [],
   "source": [
    "for col in exp_cols:\n",
    "    df.loc[(df[col].isna()) & (df['CryoSleep']==True), col]=0"
   ]
  },
  {
   "cell_type": "code",
   "execution_count": 868,
   "id": "b6efce27",
   "metadata": {},
   "outputs": [],
   "source": [
    "for col in exp_cols:\n",
    "    na_rows=df.loc[df[col].isna(),col].index\n",
    "    df.loc[df[col].isna(),col]=df.groupby(['HomePlanet','TravellingAlone','AgeGroup'])[col].transform(lambda x: x.fillna(x.mean()))[na_rows]"
   ]
  },
  {
   "cell_type": "code",
   "execution_count": 869,
   "id": "fdead797",
   "metadata": {},
   "outputs": [],
   "source": [
    "df['TotalMoneySpent']=df[exp_cols].sum(axis=1)\n",
    "df['NoSpending']=(df['TotalMoneySpent']==0).astype(int)"
   ]
  },
  {
   "cell_type": "code",
   "execution_count": 870,
   "id": "8727da6b",
   "metadata": {},
   "outputs": [],
   "source": [
    "df.loc[df['Name'].isna(),'Name']='Unknown'\n",
    "df.loc[df['Surname'].isna(),'Surname']='Unknown'"
   ]
  },
  {
   "cell_type": "code",
   "execution_count": 871,
   "id": "07d7b5ab",
   "metadata": {},
   "outputs": [
    {
     "data": {
      "text/plain": [
       "PassengerId            0\n",
       "HomePlanet             0\n",
       "CryoSleep              0\n",
       "Destination            0\n",
       "Age                    0\n",
       "VIP                    0\n",
       "RoomService            0\n",
       "FoodCourt              0\n",
       "ShoppingMall           0\n",
       "Spa                    0\n",
       "VRDeck                 0\n",
       "Name                   0\n",
       "Transported         4277\n",
       "Deck                   0\n",
       "CabinNumber            0\n",
       "Side                   0\n",
       "TotalMoneySpent        0\n",
       "Group                  0\n",
       "GroupSize              0\n",
       "NoSpending             0\n",
       "TravellingAlone        0\n",
       "Surname                0\n",
       "FamilySize             0\n",
       "CabinNumberGroup       0\n",
       "AgeGroup               0\n",
       "dtype: int64"
      ]
     },
     "execution_count": 871,
     "metadata": {},
     "output_type": "execute_result"
    }
   ],
   "source": [
    "df.isna().sum()"
   ]
  },
  {
   "cell_type": "code",
   "execution_count": 872,
   "id": "a8e7bbbc",
   "metadata": {},
   "outputs": [],
   "source": [
    "df['CryoSleep'] = df['CryoSleep'].astype(int)"
   ]
  },
  {
   "cell_type": "code",
   "execution_count": 873,
   "id": "c1e64e99",
   "metadata": {},
   "outputs": [
    {
     "data": {
      "text/plain": [
       "TRAPPIST-1e      9095\n",
       "55 Cancri e      2685\n",
       "PSO J318.5-22    1190\n",
       "Name: Destination, dtype: int64"
      ]
     },
     "execution_count": 873,
     "metadata": {},
     "output_type": "execute_result"
    }
   ],
   "source": [
    "df['Destination'].value_counts()"
   ]
  },
  {
   "cell_type": "code",
   "execution_count": 874,
   "id": "ec3240a9",
   "metadata": {},
   "outputs": [],
   "source": [
    "df.loc[df['Destination'] == 'TRAPPIST-1e','Destination']=0\n",
    "df.loc[df['Destination'] == '55 Cancri e','Destination']=1\n",
    "df.loc[df['Destination'] == 'PSO J318.5-22','Destination']=2"
   ]
  },
  {
   "cell_type": "code",
   "execution_count": 875,
   "id": "fc71253e",
   "metadata": {},
   "outputs": [
    {
     "data": {
      "text/plain": [
       "Earth     7019\n",
       "Europa    3197\n",
       "Mars      2754\n",
       "Name: HomePlanet, dtype: int64"
      ]
     },
     "execution_count": 875,
     "metadata": {},
     "output_type": "execute_result"
    }
   ],
   "source": [
    "df['HomePlanet'].value_counts()"
   ]
  },
  {
   "cell_type": "code",
   "execution_count": 876,
   "id": "e45950e5",
   "metadata": {},
   "outputs": [],
   "source": [
    "df.loc[df['HomePlanet'] == 'Earth','HomePlanet']=0\n",
    "df.loc[df['HomePlanet'] == 'Europa','HomePlanet']=1\n",
    "df.loc[df['HomePlanet'] == 'Mars','HomePlanet']=2"
   ]
  },
  {
   "cell_type": "code",
   "execution_count": 877,
   "id": "898e778e",
   "metadata": {},
   "outputs": [
    {
     "data": {
      "text/plain": [
       "F    4309\n",
       "G    3899\n",
       "E    1344\n",
       "B    1174\n",
       "C    1135\n",
       "D     734\n",
       "A     364\n",
       "T      11\n",
       "Name: Deck, dtype: int64"
      ]
     },
     "execution_count": 877,
     "metadata": {},
     "output_type": "execute_result"
    }
   ],
   "source": [
    "df['Deck'].value_counts()"
   ]
  },
  {
   "cell_type": "code",
   "execution_count": 878,
   "id": "34639e31",
   "metadata": {},
   "outputs": [],
   "source": [
    "df.loc[df['Deck'] == 'A','Deck']=0\n",
    "df.loc[df['Deck'] == 'B','Deck']=1\n",
    "df.loc[df['Deck'] == 'C','Deck']=2\n",
    "df.loc[df['Deck'] == 'D','Deck']=3\n",
    "df.loc[df['Deck'] == 'E','Deck']=4\n",
    "df.loc[df['Deck'] == 'F','Deck']=5\n",
    "df.loc[df['Deck'] == 'G','Deck']=6\n",
    "df.loc[df['Deck'] == 'T','Deck']=7"
   ]
  },
  {
   "cell_type": "code",
   "execution_count": 879,
   "id": "913ef520",
   "metadata": {},
   "outputs": [
    {
     "data": {
      "text/plain": [
       "S    6504\n",
       "P    6466\n",
       "Name: Side, dtype: int64"
      ]
     },
     "execution_count": 879,
     "metadata": {},
     "output_type": "execute_result"
    }
   ],
   "source": [
    "df['Side'].value_counts()"
   ]
  },
  {
   "cell_type": "code",
   "execution_count": 880,
   "id": "6a1231f2",
   "metadata": {},
   "outputs": [],
   "source": [
    "df.loc[df['Side'] == 'S','Side']=0\n",
    "df.loc[df['Side'] == 'P','Side']=1"
   ]
  },
  {
   "cell_type": "code",
   "execution_count": 797,
   "id": "1c90406f",
   "metadata": {},
   "outputs": [],
   "source": [
    "df[['VIP', 'HomePlanet', 'Destination', 'Deck', 'Side', 'CabinNumberGroup', 'AgeGroup']] = df[['VIP', 'HomePlanet', 'Destination', 'Deck', 'Side', 'CabinNumberGroup', 'AgeGroup']].astype(int)"
   ]
  },
  {
   "cell_type": "code",
   "execution_count": 881,
   "id": "2de4bacb",
   "metadata": {},
   "outputs": [],
   "source": [
    "df.to_csv('unclean_data.csv', index=False)"
   ]
  },
  {
   "cell_type": "code",
   "execution_count": 887,
   "id": "e19e12df",
   "metadata": {},
   "outputs": [],
   "source": [
    "df = pd.read_csv('unclean_data.csv')"
   ]
  },
  {
   "cell_type": "code",
   "execution_count": 888,
   "id": "cffc3262",
   "metadata": {},
   "outputs": [],
   "source": [
    "DEFAULT_SURVIVAL_VALUE = 0.5\n",
    "df['FamilySurvival'] = DEFAULT_SURVIVAL_VALUE\n",
    "\n",
    "for grp, grp_df in df.groupby(['Surname', 'Group']):\n",
    "    \n",
    "    if (len(grp_df) != 1):\n",
    "        # A Family group is found.\n",
    "        for ind, row in grp_df.iterrows():\n",
    "            smax = grp_df.drop(ind)['Transported'].max()\n",
    "            smin = grp_df.drop(ind)['Transported'].min()\n",
    "            passID = row['PassengerId']\n",
    "            if (smax == 1.0):\n",
    "                df.loc[df['PassengerId'] == passID, 'FamilySurvival'] = 1\n",
    "            elif (smin==0.0):\n",
    "                df.loc[df['PassengerId'] == passID, 'FamilySurvival'] = 0"
   ]
  },
  {
   "cell_type": "code",
   "execution_count": 889,
   "id": "23e1371d",
   "metadata": {},
   "outputs": [],
   "source": [
    "df.drop(['Name','Surname','CabinNumber','Age', 'PassengerId', 'Group'],axis=1,inplace=True)"
   ]
  },
  {
   "cell_type": "code",
   "execution_count": 890,
   "id": "eb434b6b",
   "metadata": {},
   "outputs": [],
   "source": [
    "for col in exp_cols:\n",
    "    df[col]=np.log(1+df[col])"
   ]
  },
  {
   "cell_type": "code",
   "execution_count": 891,
   "id": "600358bc",
   "metadata": {},
   "outputs": [],
   "source": [
    "df['TotalMoneySpent']=np.log(1+df['TotalMoneySpent'])"
   ]
  },
  {
   "cell_type": "code",
   "execution_count": 892,
   "id": "bc582694",
   "metadata": {},
   "outputs": [],
   "source": [
    "# split df in train and test\n",
    "train=df.loc[~df['Transported'].isna()]\n",
    "test=df.loc[df['Transported'].isna()]"
   ]
  },
  {
   "cell_type": "code",
   "execution_count": 893,
   "id": "77095d29",
   "metadata": {},
   "outputs": [
    {
     "name": "stderr",
     "output_type": "stream",
     "text": [
      "C:\\Users\\HP\\AppData\\Local\\Temp\\ipykernel_10604\\32068924.py:1: SettingWithCopyWarning: \n",
      "A value is trying to be set on a copy of a slice from a DataFrame.\n",
      "Try using .loc[row_indexer,col_indexer] = value instead\n",
      "\n",
      "See the caveats in the documentation: https://pandas.pydata.org/pandas-docs/stable/user_guide/indexing.html#returning-a-view-versus-a-copy\n",
      "  train['Transported'] = train['Transported'].astype(int)\n"
     ]
    }
   ],
   "source": [
    "train['Transported'] = train['Transported'].astype(int)"
   ]
  },
  {
   "cell_type": "code",
   "execution_count": 894,
   "id": "45984a9e-9471-4757-9350-ca4100e240c4",
   "metadata": {},
   "outputs": [
    {
     "data": {
      "text/plain": [
       "Transported         1.000000\n",
       "NoSpending          0.482416\n",
       "CryoSleep           0.466889\n",
       "HomePlanet          0.119111\n",
       "FamilySurvival      0.101840\n",
       "GroupSize           0.082644\n",
       "Destination         0.069164\n",
       "VIP                -0.037261\n",
       "CabinNumberGroup   -0.050732\n",
       "FamilySize         -0.050855\n",
       "AgeGroup           -0.085742\n",
       "Side               -0.103377\n",
       "TravellingAlone    -0.113792\n",
       "Deck               -0.119337\n",
       "FoodCourt          -0.142482\n",
       "ShoppingMall       -0.188929\n",
       "VRDeck             -0.345165\n",
       "RoomService        -0.365200\n",
       "Spa                -0.369219\n",
       "TotalMoneySpent    -0.471069\n",
       "Name: Transported, dtype: float64"
      ]
     },
     "execution_count": 894,
     "metadata": {},
     "output_type": "execute_result"
    }
   ],
   "source": [
    "train.corr()['Transported'].sort_values(ascending=False)"
   ]
  },
  {
   "cell_type": "code",
   "execution_count": 895,
   "id": "068b0e10-4aa2-4664-a5f6-bda0b9c0e511",
   "metadata": {},
   "outputs": [],
   "source": [
    "X = train.drop(['Transported'], axis=1)\n",
    "test = test.drop(['Transported'], axis=1)\n",
    "\n",
    "Y = train['Transported']"
   ]
  },
  {
   "cell_type": "code",
   "execution_count": 896,
   "id": "4e620ac2-4228-486b-aacd-138d7b33810c",
   "metadata": {},
   "outputs": [
    {
     "name": "stdout",
     "output_type": "stream",
     "text": [
      "Logistic Regression Accuracy: 77.05 (+/- 0.56)\n"
     ]
    }
   ],
   "source": [
    "# Logistic Regression\n",
    "\n",
    "logreg = LogisticRegression( solver='lbfgs', max_iter=1000)\n",
    "logreg_cv_scores = cross_val_score(logreg, X, Y, cv=5)\n",
    "print(\"Logistic Regression Accuracy: %0.2f (+/- %0.2f)\" % (logreg_cv_scores.mean() * 100, logreg_cv_scores.std() * 100))\n",
    "log_reg_Y_pred = logreg.fit(X, Y).predict(test)"
   ]
  },
  {
   "cell_type": "code",
   "execution_count": 897,
   "id": "4fe81fc9-8259-4f4c-937e-5266af5559b3",
   "metadata": {},
   "outputs": [],
   "source": [
    "A = np.column_stack((log_reg_Y_pred,))"
   ]
  },
  {
   "cell_type": "code",
   "execution_count": 899,
   "id": "3a1a3ba6-4a5c-49e8-8160-d9800145637f",
   "metadata": {},
   "outputs": [
    {
     "name": "stdout",
     "output_type": "stream",
     "text": [
      "Support Vector Machines Accuracy: 79.21 (+/- 1.05)\n"
     ]
    }
   ],
   "source": [
    "# Support Vector Machines\n",
    "\n",
    "svc = SVC()\n",
    "svc_cv_scores = cross_val_score(svc, X, Y, cv=5)\n",
    "print(\"Support Vector Machines Accuracy: %0.2f (+/- %0.2f)\" % (svc_cv_scores.mean() * 100, svc_cv_scores.std() * 100))\n",
    "svc_Y_pred = svc.fit(X, Y).predict(test)"
   ]
  },
  {
   "cell_type": "code",
   "execution_count": 900,
   "id": "c7bb399b-7d56-494e-b849-83b56c1a809b",
   "metadata": {},
   "outputs": [],
   "source": [
    "A = np.column_stack((A,svc_Y_pred))"
   ]
  },
  {
   "cell_type": "code",
   "execution_count": 901,
   "id": "0a1480d6-6778-4df6-aa7f-6f779f844281",
   "metadata": {},
   "outputs": [
    {
     "name": "stdout",
     "output_type": "stream",
     "text": [
      "KNN Accuracy: 78.22 (+/- 1.12)\n"
     ]
    }
   ],
   "source": [
    "# KNN\n",
    "\n",
    "knn = KNeighborsClassifier(n_neighbors = 50)\n",
    "knn_cv_scores = cross_val_score(knn, X, Y, cv=5)\n",
    "print(\"KNN Accuracy: %0.2f (+/- %0.2f)\" % (knn_cv_scores.mean() * 100, knn_cv_scores.std() * 100))\n",
    "knn_Y_pred = knn.fit(X, Y).predict(test)"
   ]
  },
  {
   "cell_type": "code",
   "execution_count": 902,
   "id": "71be0f91-9b5e-41e5-9b4f-56ddf4b8ff4c",
   "metadata": {},
   "outputs": [],
   "source": [
    "A = np.column_stack((A,knn_Y_pred))"
   ]
  },
  {
   "cell_type": "code",
   "execution_count": 903,
   "id": "1ba56305-ea2b-40c4-9ff2-30d3a8020742",
   "metadata": {},
   "outputs": [
    {
     "name": "stdout",
     "output_type": "stream",
     "text": [
      "Gaussian Naive Bayes Accuracy: 73.61 (+/- 1.23)\n"
     ]
    }
   ],
   "source": [
    "# Gaussian Naive Bayes\n",
    "\n",
    "gaussian = GaussianNB()\n",
    "gaussian_cv_scores = cross_val_score(gaussian, X, Y, cv=5)\n",
    "print(\"Gaussian Naive Bayes Accuracy: %0.2f (+/- %0.2f)\" % (gaussian_cv_scores.mean() * 100, gaussian_cv_scores.std() * 100))\n",
    "gaussian_Y_pred = gaussian.fit(X, Y).predict(test)"
   ]
  },
  {
   "cell_type": "code",
   "execution_count": 904,
   "id": "001dcdf8-5198-4726-bab0-af388d3c8d5a",
   "metadata": {},
   "outputs": [],
   "source": [
    "A = np.column_stack((A,gaussian_Y_pred))"
   ]
  },
  {
   "cell_type": "code",
   "execution_count": 905,
   "id": "d04e44ec-c1d0-44f0-ad1e-eb682e418241",
   "metadata": {},
   "outputs": [
    {
     "name": "stdout",
     "output_type": "stream",
     "text": [
      "Perceptron Accuracy: 72.40 (+/- 2.01)\n"
     ]
    }
   ],
   "source": [
    "# Perceptron\n",
    "\n",
    "perceptron = Perceptron()\n",
    "perceptron_cv_scores = cross_val_score(perceptron, X, Y, cv=5)\n",
    "print(\"Perceptron Accuracy: %0.2f (+/- %0.2f)\" % (perceptron_cv_scores.mean() * 100, perceptron_cv_scores.std() * 100))\n",
    "perceptron_Y_pred = perceptron.fit(X, Y).predict(test)"
   ]
  },
  {
   "cell_type": "code",
   "execution_count": 906,
   "id": "c0d6f4ff-f8b6-4499-97fc-ab7f26ef6a29",
   "metadata": {},
   "outputs": [],
   "source": [
    "A = np.column_stack((A,perceptron_Y_pred))"
   ]
  },
  {
   "cell_type": "code",
   "execution_count": 907,
   "id": "c2c8cadb",
   "metadata": {},
   "outputs": [
    {
     "name": "stderr",
     "output_type": "stream",
     "text": [
      "C:\\Users\\HP\\AppData\\Roaming\\Python\\Python310\\site-packages\\sklearn\\svm\\_base.py:1225: ConvergenceWarning: Liblinear failed to converge, increase the number of iterations.\n",
      "  warnings.warn(\n",
      "C:\\Users\\HP\\AppData\\Roaming\\Python\\Python310\\site-packages\\sklearn\\svm\\_base.py:1225: ConvergenceWarning: Liblinear failed to converge, increase the number of iterations.\n",
      "  warnings.warn(\n",
      "C:\\Users\\HP\\AppData\\Roaming\\Python\\Python310\\site-packages\\sklearn\\svm\\_base.py:1225: ConvergenceWarning: Liblinear failed to converge, increase the number of iterations.\n",
      "  warnings.warn(\n",
      "C:\\Users\\HP\\AppData\\Roaming\\Python\\Python310\\site-packages\\sklearn\\svm\\_base.py:1225: ConvergenceWarning: Liblinear failed to converge, increase the number of iterations.\n",
      "  warnings.warn(\n",
      "C:\\Users\\HP\\AppData\\Roaming\\Python\\Python310\\site-packages\\sklearn\\svm\\_base.py:1225: ConvergenceWarning: Liblinear failed to converge, increase the number of iterations.\n",
      "  warnings.warn(\n"
     ]
    },
    {
     "name": "stdout",
     "output_type": "stream",
     "text": [
      "Linear SVC Accuracy: 76.87 (+/- 0.92)\n"
     ]
    },
    {
     "name": "stderr",
     "output_type": "stream",
     "text": [
      "C:\\Users\\HP\\AppData\\Roaming\\Python\\Python310\\site-packages\\sklearn\\svm\\_base.py:1225: ConvergenceWarning: Liblinear failed to converge, increase the number of iterations.\n",
      "  warnings.warn(\n"
     ]
    }
   ],
   "source": [
    "# Linear SVC\n",
    "\n",
    "linear_svc = LinearSVC(max_iter=1000, verbose=0)\n",
    "linear_svc_cv_scores = cross_val_score(linear_svc, X, Y, cv=5)\n",
    "print(\"Linear SVC Accuracy: %0.2f (+/- %0.2f)\" % (linear_svc_cv_scores.mean() * 100, linear_svc_cv_scores.std() * 100))\n",
    "linear_svc_Y_pred = linear_svc.fit(X, Y).predict(test)"
   ]
  },
  {
   "cell_type": "code",
   "execution_count": 908,
   "id": "fd8535cc",
   "metadata": {},
   "outputs": [],
   "source": [
    "A = np.column_stack((A,linear_svc_Y_pred))"
   ]
  },
  {
   "cell_type": "code",
   "execution_count": 909,
   "id": "34945579",
   "metadata": {},
   "outputs": [
    {
     "name": "stdout",
     "output_type": "stream",
     "text": [
      "Stochastic Gradient Descent Accuracy: 71.19 (+/- 4.10)\n"
     ]
    }
   ],
   "source": [
    "# Stochastic Gradient Descent\n",
    "\n",
    "sgd = SGDClassifier()\n",
    "sgd_cv_scores = cross_val_score(sgd, X, Y, cv=5)\n",
    "print(\"Stochastic Gradient Descent Accuracy: %0.2f (+/- %0.2f)\" % (sgd_cv_scores.mean() * 100, sgd_cv_scores.std() * 100))\n",
    "sgd_Y_pred = sgd.fit(X, Y).predict(test)"
   ]
  },
  {
   "cell_type": "code",
   "execution_count": 910,
   "id": "fa709871",
   "metadata": {},
   "outputs": [],
   "source": [
    "A = np.column_stack((A,sgd_Y_pred))"
   ]
  },
  {
   "cell_type": "code",
   "execution_count": 911,
   "id": "cb1ce637",
   "metadata": {},
   "outputs": [
    {
     "name": "stdout",
     "output_type": "stream",
     "text": [
      "Random Forest Accuracy: 79.51 (+/- 2.06)\n"
     ]
    }
   ],
   "source": [
    "# Random Forest\n",
    "\n",
    "random_forest = RandomForestClassifier(n_estimators=1000)\n",
    "random_forest_cv_scores = cross_val_score(random_forest, X, Y, cv=5)\n",
    "print(\"Random Forest Accuracy: %0.2f (+/- %0.2f)\" % (random_forest_cv_scores.mean() * 100, random_forest_cv_scores.std() * 100))\n",
    "random_forest_Y_pred = random_forest.fit(X, Y).predict(test)"
   ]
  },
  {
   "cell_type": "code",
   "execution_count": 912,
   "id": "c3a955dc",
   "metadata": {},
   "outputs": [],
   "source": [
    "A = np.column_stack((A,random_forest_Y_pred))"
   ]
  },
  {
   "cell_type": "code",
   "execution_count": 913,
   "id": "8f9d38b6",
   "metadata": {},
   "outputs": [
    {
     "name": "stdout",
     "output_type": "stream",
     "text": [
      "XGBoost Accuracy: 79.62 (+/- 2.46)\n"
     ]
    }
   ],
   "source": [
    "# XGBoost\n",
    "xgb_model = xgb.XGBClassifier(objective=\"binary:logistic\", random_state=42)\n",
    "xgb_cv_scores = cross_val_score(xgb_model, X, Y, cv=5)\n",
    "print(\"XGBoost Accuracy: %0.2f (+/- %0.2f)\" % (xgb_cv_scores.mean() * 100, xgb_cv_scores.std() * 100))\n",
    "xgb_Y_pred = xgb_model.fit(X, Y).predict(test)"
   ]
  },
  {
   "cell_type": "code",
   "execution_count": 914,
   "id": "94ff422a",
   "metadata": {},
   "outputs": [],
   "source": [
    "A = np.column_stack((A,xgb_Y_pred))"
   ]
  },
  {
   "cell_type": "code",
   "execution_count": 915,
   "id": "734ff77f",
   "metadata": {},
   "outputs": [
    {
     "name": "stdout",
     "output_type": "stream",
     "text": [
      "lightgbm Accuracy: 80.42 (+/- 2.60)\n"
     ]
    }
   ],
   "source": [
    "# lightgbm\n",
    "lgbm_model = lgb.LGBMClassifier(objective=\"binary\", learning_rate=0.05, n_estimators=100, max_depth=10, random_state=0)\n",
    "lgbm_cv_scores = cross_val_score(lgbm_model, X, Y, cv=5)\n",
    "print(\"lightgbm Accuracy: %0.2f (+/- %0.2f)\" % (lgbm_cv_scores.mean() * 100, lgbm_cv_scores.std() * 100))\n",
    "lgbm_Y_pred = lgbm_model.fit(X, Y).predict(test)"
   ]
  },
  {
   "cell_type": "code",
   "execution_count": 916,
   "id": "d94e635d",
   "metadata": {},
   "outputs": [],
   "source": [
    "A = np.column_stack((A,lgbm_Y_pred))"
   ]
  },
  {
   "cell_type": "code",
   "execution_count": 917,
   "id": "a155325a",
   "metadata": {},
   "outputs": [
    {
     "name": "stdout",
     "output_type": "stream",
     "text": [
      "catboost Accuracy: 80.43 (+/- 1.43)\n"
     ]
    }
   ],
   "source": [
    "# catboost\n",
    "cat_model = cb.CatBoostClassifier(learning_rate=0.15, n_estimators=100, depth=4, loss_function='Logloss', verbose=0)\n",
    "cat_cv_scores = cross_val_score(cat_model, X, Y, cv=5)\n",
    "print(\"catboost Accuracy: %0.2f (+/- %0.2f)\" % (cat_cv_scores.mean() * 100, cat_cv_scores.std() * 100))\n",
    "cat_Y_pred = cat_model.fit(X, Y).predict(test)"
   ]
  },
  {
   "cell_type": "code",
   "execution_count": 918,
   "id": "4da8d722",
   "metadata": {},
   "outputs": [],
   "source": [
    "A = np.column_stack((A,cat_Y_pred))"
   ]
  },
  {
   "cell_type": "code",
   "execution_count": 919,
   "id": "b21b0154-a85b-4641-aa62-21119d2cda6e",
   "metadata": {},
   "outputs": [],
   "source": [
    "avg = np.round(np.mean(A, axis=1)).astype(bool)"
   ]
  },
  {
   "cell_type": "code",
   "execution_count": 920,
   "id": "eb1666bb",
   "metadata": {},
   "outputs": [
    {
     "data": {
      "text/html": [
       "<div>\n",
       "<style scoped>\n",
       "    .dataframe tbody tr th:only-of-type {\n",
       "        vertical-align: middle;\n",
       "    }\n",
       "\n",
       "    .dataframe tbody tr th {\n",
       "        vertical-align: top;\n",
       "    }\n",
       "\n",
       "    .dataframe thead th {\n",
       "        text-align: right;\n",
       "    }\n",
       "</style>\n",
       "<table border=\"1\" class=\"dataframe\">\n",
       "  <thead>\n",
       "    <tr style=\"text-align: right;\">\n",
       "      <th></th>\n",
       "      <th>Training Accuracy</th>\n",
       "    </tr>\n",
       "    <tr>\n",
       "      <th>Model</th>\n",
       "      <th></th>\n",
       "    </tr>\n",
       "  </thead>\n",
       "  <tbody>\n",
       "    <tr>\n",
       "      <th>catboost</th>\n",
       "      <td>80.432844</td>\n",
       "    </tr>\n",
       "    <tr>\n",
       "      <th>lightgbm</th>\n",
       "      <td>80.421489</td>\n",
       "    </tr>\n",
       "    <tr>\n",
       "      <th>XGBoost</th>\n",
       "      <td>79.616111</td>\n",
       "    </tr>\n",
       "    <tr>\n",
       "      <th>Random Forest</th>\n",
       "      <td>79.512570</td>\n",
       "    </tr>\n",
       "    <tr>\n",
       "      <th>Support Vector Machines</th>\n",
       "      <td>79.213422</td>\n",
       "    </tr>\n",
       "    <tr>\n",
       "      <th>KNN</th>\n",
       "      <td>78.224103</td>\n",
       "    </tr>\n",
       "    <tr>\n",
       "      <th>Logistic Regression</th>\n",
       "      <td>77.050571</td>\n",
       "    </tr>\n",
       "    <tr>\n",
       "      <th>Linear SVC</th>\n",
       "      <td>76.866637</td>\n",
       "    </tr>\n",
       "    <tr>\n",
       "      <th>Naive Bayes</th>\n",
       "      <td>73.611264</td>\n",
       "    </tr>\n",
       "    <tr>\n",
       "      <th>Perceptron</th>\n",
       "      <td>72.403025</td>\n",
       "    </tr>\n",
       "    <tr>\n",
       "      <th>Stochastic Gradient Decent</th>\n",
       "      <td>71.194144</td>\n",
       "    </tr>\n",
       "  </tbody>\n",
       "</table>\n",
       "</div>"
      ],
      "text/plain": [
       "                            Training Accuracy\n",
       "Model                                        \n",
       "catboost                            80.432844\n",
       "lightgbm                            80.421489\n",
       "XGBoost                             79.616111\n",
       "Random Forest                       79.512570\n",
       "Support Vector Machines             79.213422\n",
       "KNN                                 78.224103\n",
       "Logistic Regression                 77.050571\n",
       "Linear SVC                          76.866637\n",
       "Naive Bayes                         73.611264\n",
       "Perceptron                          72.403025\n",
       "Stochastic Gradient Decent          71.194144"
      ]
     },
     "execution_count": 920,
     "metadata": {},
     "output_type": "execute_result"
    }
   ],
   "source": [
    "results = pd.DataFrame({\n",
    "    'Model': ['Support Vector Machines', 'KNN', 'Logistic Regression',\n",
    "\n",
    "                'Random Forest', 'Naive Bayes', 'Perceptron',\n",
    "\n",
    "                'Stochastic Gradient Decent', 'Linear SVC', 'XGBoost', 'lightgbm', 'catboost'],\n",
    "    'Training Accuracy': [svc_cv_scores.mean() * 100, knn_cv_scores.mean() * 100, logreg_cv_scores.mean() * 100,\n",
    "\n",
    "\n",
    "                random_forest_cv_scores.mean() * 100, gaussian_cv_scores.mean() * 100, perceptron_cv_scores.mean() * 100,\n",
    "\n",
    "                sgd_cv_scores.mean() * 100, linear_svc_cv_scores.mean() * 100, xgb_cv_scores.mean() * 100, lgbm_cv_scores.mean() * 100, cat_cv_scores.mean() * 100]})\n",
    "result_df = results.sort_values(by='Training Accuracy', ascending=False)\n",
    "result_df = result_df.set_index('Model')\n",
    "result_df"
   ]
  },
  {
   "cell_type": "code",
   "execution_count": 928,
   "id": "6774fb4f",
   "metadata": {},
   "outputs": [],
   "source": [
    "A = np.column_stack((lgbm_Y_pred,cat_Y_pred, xgb_Y_pred))"
   ]
  },
  {
   "cell_type": "code",
   "execution_count": 929,
   "id": "9e8826db",
   "metadata": {},
   "outputs": [],
   "source": [
    "avg = np.round(np.mean(A, axis=1)).astype(bool)"
   ]
  },
  {
   "cell_type": "code",
   "execution_count": 930,
   "id": "f2413c89-f234-4f6f-8c52-e55bee229a7f",
   "metadata": {},
   "outputs": [],
   "source": [
    "submission = pd.DataFrame({\n",
    "        \"PassengerId\": test_df[\"PassengerId\"],\n",
    "        \"Transported\": avg\n",
    "    })\n",
    "submission.to_csv('final.csv', index=False)"
   ]
  }
 ],
 "metadata": {
  "kernelspec": {
   "display_name": "Python 3.10.5 64-bit",
   "language": "python",
   "name": "python3"
  },
  "language_info": {
   "codemirror_mode": {
    "name": "ipython",
    "version": 3
   },
   "file_extension": ".py",
   "mimetype": "text/x-python",
   "name": "python",
   "nbconvert_exporter": "python",
   "pygments_lexer": "ipython3",
   "version": "3.10.5"
  },
  "vscode": {
   "interpreter": {
    "hash": "26de051ba29f2982a8de78e945f0abaf191376122a1563185a90213a26c5da77"
   }
  }
 },
 "nbformat": 4,
 "nbformat_minor": 5
}
